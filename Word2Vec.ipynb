{
 "cells": [
  {
   "cell_type": "code",
   "execution_count": 5,
   "metadata": {
    "ExecuteTime": {
     "end_time": "2021-02-08T15:26:56.029363Z",
     "start_time": "2021-02-08T15:26:55.376363Z"
    }
   },
   "outputs": [],
   "source": [
    "import nltk\n",
    "\n",
    "from gensim.models import Word2Vec\n",
    "from nltk.corpus import stopwords"
   ]
  },
  {
   "cell_type": "code",
   "execution_count": 6,
   "metadata": {
    "ExecuteTime": {
     "end_time": "2021-02-08T15:27:20.566087Z",
     "start_time": "2021-02-08T15:27:20.558327Z"
    }
   },
   "outputs": [],
   "source": [
    "import re"
   ]
  },
  {
   "cell_type": "code",
   "execution_count": 7,
   "metadata": {
    "ExecuteTime": {
     "end_time": "2021-02-08T15:28:01.556449Z",
     "start_time": "2021-02-08T15:28:01.548792Z"
    }
   },
   "outputs": [],
   "source": [
    "paragraph=\"\"\"He saw a lot of hardships on his way to success. \n",
    "            There was a time when his sister sold her jewelry  12 to pay his college fees.\n",
    "            After completing his graduation, he joined the defense # department to serve the nation.\n",
    "            And from there the journey of the famous scientist started  $ to a never-ending tale of success.\n",
    "            He was one of the various scientists in India who worked for the development of nuclear power. \n",
    "            For his work, he also earned various awards and prizes.\"\"\""
   ]
  },
  {
   "cell_type": "code",
   "execution_count": 8,
   "metadata": {
    "ExecuteTime": {
     "end_time": "2021-02-08T15:35:36.498291Z",
     "start_time": "2021-02-08T15:35:36.489588Z"
    }
   },
   "outputs": [],
   "source": [
    "#Preprocessing the data\n",
    "paragraph=re.sub(r'\\[[0-9]*\\]',' ',paragraph)\n",
    "paragraph=re.sub(r'\\s+',' ',paragraph)\n",
    "paragraph=paragraph.lower()\n",
    "paragraph=re.sub(r'\\d',' ',paragraph)\n",
    "paragraph=re.sub(r'\\s+',' ',paragraph)"
   ]
  },
  {
   "cell_type": "code",
   "execution_count": 9,
   "metadata": {
    "ExecuteTime": {
     "end_time": "2021-02-08T15:35:49.441655Z",
     "start_time": "2021-02-08T15:35:49.431503Z"
    }
   },
   "outputs": [
    {
     "name": "stdout",
     "output_type": "stream",
     "text": [
      " he saw a lot of hardships on his way to success. there was a time when his sister sold her jewelry to pay his college fees. after completing his graduation, he joined the defense department to serve the nation. and from there the journey of the famous scientist started to a never-ending tale of success. he was one of the various scientists in india who worked for the development of nuclear power. for his work, he also earned various awards and prizes. \n"
     ]
    }
   ],
   "source": [
    "print(paragraph)"
   ]
  },
  {
   "cell_type": "code",
   "execution_count": 10,
   "metadata": {
    "ExecuteTime": {
     "end_time": "2021-02-08T15:39:00.805516Z",
     "start_time": "2021-02-08T15:38:58.865523Z"
    }
   },
   "outputs": [
    {
     "name": "stdout",
     "output_type": "stream",
     "text": [
      "[' he saw a lot of hardships on his way to success.', 'there was a time when his sister sold her jewelry to pay his college fees.', 'after completing his graduation, he joined the defense department to serve the nation.', 'and from there the journey of the famous scientist started to a never-ending tale of success.', 'he was one of the various scientists in india who worked for the development of nuclear power.', 'for his work, he also earned various awards and prizes.']\n"
     ]
    }
   ],
   "source": [
    "# prepairing the dataset\n",
    "sentence=nltk.sent_tokenize(paragraph)\n",
    "print(sentence)"
   ]
  },
  {
   "cell_type": "code",
   "execution_count": 11,
   "metadata": {
    "ExecuteTime": {
     "end_time": "2021-02-08T15:41:36.858702Z",
     "start_time": "2021-02-08T15:41:36.853956Z"
    }
   },
   "outputs": [],
   "source": [
    "words=[nltk.word_tokenize(word) for word in sentence]"
   ]
  },
  {
   "cell_type": "code",
   "execution_count": 12,
   "metadata": {
    "ExecuteTime": {
     "end_time": "2021-02-08T15:41:46.265265Z",
     "start_time": "2021-02-08T15:41:46.261929Z"
    }
   },
   "outputs": [
    {
     "name": "stdout",
     "output_type": "stream",
     "text": [
      "[['he', 'saw', 'a', 'lot', 'of', 'hardships', 'on', 'his', 'way', 'to', 'success', '.'], ['there', 'was', 'a', 'time', 'when', 'his', 'sister', 'sold', 'her', 'jewelry', 'to', 'pay', 'his', 'college', 'fees', '.'], ['after', 'completing', 'his', 'graduation', ',', 'he', 'joined', 'the', 'defense', 'department', 'to', 'serve', 'the', 'nation', '.'], ['and', 'from', 'there', 'the', 'journey', 'of', 'the', 'famous', 'scientist', 'started', 'to', 'a', 'never-ending', 'tale', 'of', 'success', '.'], ['he', 'was', 'one', 'of', 'the', 'various', 'scientists', 'in', 'india', 'who', 'worked', 'for', 'the', 'development', 'of', 'nuclear', 'power', '.'], ['for', 'his', 'work', ',', 'he', 'also', 'earned', 'various', 'awards', 'and', 'prizes', '.']]\n"
     ]
    }
   ],
   "source": [
    "print(words)"
   ]
  },
  {
   "cell_type": "code",
   "execution_count": 16,
   "metadata": {
    "ExecuteTime": {
     "end_time": "2021-02-08T15:46:11.812746Z",
     "start_time": "2021-02-08T15:46:11.782679Z"
    }
   },
   "outputs": [],
   "source": [
    "for i in range(len(words)):\n",
    "    words[i]=[word for word in words[i] if word not in set(stopwords.words('english'))]"
   ]
  },
  {
   "cell_type": "code",
   "execution_count": 17,
   "metadata": {
    "ExecuteTime": {
     "end_time": "2021-02-08T15:46:19.605789Z",
     "start_time": "2021-02-08T15:46:19.596593Z"
    }
   },
   "outputs": [
    {
     "name": "stdout",
     "output_type": "stream",
     "text": [
      "[['saw', 'lot', 'hardships', 'way', 'success', '.'], ['time', 'sister', 'sold', 'jewelry', 'pay', 'college', 'fees', '.'], ['completing', 'graduation', ',', 'joined', 'defense', 'department', 'serve', 'nation', '.'], ['journey', 'famous', 'scientist', 'started', 'never-ending', 'tale', 'success', '.'], ['one', 'various', 'scientists', 'india', 'worked', 'development', 'nuclear', 'power', '.'], ['work', ',', 'also', 'earned', 'various', 'awards', 'prizes', '.']]\n"
     ]
    }
   ],
   "source": [
    "print(words)"
   ]
  },
  {
   "cell_type": "code",
   "execution_count": 18,
   "metadata": {
    "ExecuteTime": {
     "end_time": "2021-02-08T16:28:26.551855Z",
     "start_time": "2021-02-08T16:28:26.266587Z"
    }
   },
   "outputs": [],
   "source": [
    "# training word2vec\n",
    "model=Word2Vec(words,min_count=1)"
   ]
  },
  {
   "cell_type": "code",
   "execution_count": 19,
   "metadata": {
    "ExecuteTime": {
     "end_time": "2021-02-08T16:28:34.677308Z",
     "start_time": "2021-02-08T16:28:34.667790Z"
    }
   },
   "outputs": [
    {
     "name": "stdout",
     "output_type": "stream",
     "text": [
      "Word2Vec(vocab=40, size=100, alpha=0.025)\n"
     ]
    }
   ],
   "source": [
    "print(model)"
   ]
  },
  {
   "cell_type": "code",
   "execution_count": 21,
   "metadata": {
    "ExecuteTime": {
     "end_time": "2021-02-08T16:29:58.641893Z",
     "start_time": "2021-02-08T16:29:58.634522Z"
    }
   },
   "outputs": [],
   "source": [
    "words=model.wv.vocab"
   ]
  },
  {
   "cell_type": "code",
   "execution_count": 22,
   "metadata": {
    "ExecuteTime": {
     "end_time": "2021-02-08T16:30:07.459855Z",
     "start_time": "2021-02-08T16:30:07.450105Z"
    }
   },
   "outputs": [
    {
     "name": "stdout",
     "output_type": "stream",
     "text": [
      "{'saw': <gensim.models.keyedvectors.Vocab object at 0x7f5e1242e810>, 'lot': <gensim.models.keyedvectors.Vocab object at 0x7f5e12452d50>, 'hardships': <gensim.models.keyedvectors.Vocab object at 0x7f5e0e7df150>, 'way': <gensim.models.keyedvectors.Vocab object at 0x7f5e0e7df5d0>, 'success': <gensim.models.keyedvectors.Vocab object at 0x7f5e0e7df250>, '.': <gensim.models.keyedvectors.Vocab object at 0x7f5e0e7df950>, 'time': <gensim.models.keyedvectors.Vocab object at 0x7f5e0e7dfb10>, 'sister': <gensim.models.keyedvectors.Vocab object at 0x7f5e0e7df890>, 'sold': <gensim.models.keyedvectors.Vocab object at 0x7f5e0e7df7d0>, 'jewelry': <gensim.models.keyedvectors.Vocab object at 0x7f5e0e7dfb50>, 'pay': <gensim.models.keyedvectors.Vocab object at 0x7f5e0e7dfdd0>, 'college': <gensim.models.keyedvectors.Vocab object at 0x7f5e0e7dfe50>, 'fees': <gensim.models.keyedvectors.Vocab object at 0x7f5e0e7df910>, 'completing': <gensim.models.keyedvectors.Vocab object at 0x7f5e0e7df650>, 'graduation': <gensim.models.keyedvectors.Vocab object at 0x7f5e0e7df8d0>, ',': <gensim.models.keyedvectors.Vocab object at 0x7f5e0e79e190>, 'joined': <gensim.models.keyedvectors.Vocab object at 0x7f5e0e79e950>, 'defense': <gensim.models.keyedvectors.Vocab object at 0x7f5e0ea08f90>, 'department': <gensim.models.keyedvectors.Vocab object at 0x7f5e0ea08410>, 'serve': <gensim.models.keyedvectors.Vocab object at 0x7f5e0e77bcd0>, 'nation': <gensim.models.keyedvectors.Vocab object at 0x7f5e0e77bc90>, 'journey': <gensim.models.keyedvectors.Vocab object at 0x7f5e0e77b4d0>, 'famous': <gensim.models.keyedvectors.Vocab object at 0x7f5e0e77bf50>, 'scientist': <gensim.models.keyedvectors.Vocab object at 0x7f5e0e7d2110>, 'started': <gensim.models.keyedvectors.Vocab object at 0x7f5e0e7d20d0>, 'never-ending': <gensim.models.keyedvectors.Vocab object at 0x7f5e0e7d2510>, 'tale': <gensim.models.keyedvectors.Vocab object at 0x7f5e0e7d2e10>, 'one': <gensim.models.keyedvectors.Vocab object at 0x7f5e0e94aa90>, 'various': <gensim.models.keyedvectors.Vocab object at 0x7f5e0e6c2990>, 'scientists': <gensim.models.keyedvectors.Vocab object at 0x7f5e0e6c2090>, 'india': <gensim.models.keyedvectors.Vocab object at 0x7f5e0e6c2e90>, 'worked': <gensim.models.keyedvectors.Vocab object at 0x7f5e0e6c2ad0>, 'development': <gensim.models.keyedvectors.Vocab object at 0x7f5e0e6c2110>, 'nuclear': <gensim.models.keyedvectors.Vocab object at 0x7f5e0e6c2bd0>, 'power': <gensim.models.keyedvectors.Vocab object at 0x7f5e0e6c2a90>, 'work': <gensim.models.keyedvectors.Vocab object at 0x7f5e0e6c2fd0>, 'also': <gensim.models.keyedvectors.Vocab object at 0x7f5e0e6c2790>, 'earned': <gensim.models.keyedvectors.Vocab object at 0x7f5e0e619150>, 'awards': <gensim.models.keyedvectors.Vocab object at 0x7f5e0e619c50>, 'prizes': <gensim.models.keyedvectors.Vocab object at 0x7f5e0e6c8210>}\n"
     ]
    }
   ],
   "source": [
    "print(words)"
   ]
  },
  {
   "cell_type": "code",
   "execution_count": 26,
   "metadata": {
    "ExecuteTime": {
     "end_time": "2021-02-08T16:34:01.786123Z",
     "start_time": "2021-02-08T16:34:01.777831Z"
    }
   },
   "outputs": [],
   "source": [
    "#finding the vector\n",
    "vector=model.wv['development']"
   ]
  },
  {
   "cell_type": "code",
   "execution_count": 27,
   "metadata": {
    "ExecuteTime": {
     "end_time": "2021-02-08T16:38:53.294939Z",
     "start_time": "2021-02-08T16:38:53.278575Z"
    }
   },
   "outputs": [
    {
     "name": "stdout",
     "output_type": "stream",
     "text": [
      "[ 5.2380463e-04  2.7766223e-03  2.8465244e-03 -4.0325839e-03\n",
      "  6.7200331e-04  2.1222399e-03 -2.4143674e-03 -5.9615576e-04\n",
      "  1.4374143e-03 -1.6777659e-03 -2.4576224e-03 -4.0203412e-03\n",
      "  4.2312914e-03 -2.7295745e-03 -4.3911147e-03 -2.3058366e-03\n",
      "  6.0277828e-04  1.9877553e-03  3.4411696e-03  2.3442176e-03\n",
      " -2.0971899e-03  1.3452905e-03 -3.0588859e-03  2.9112028e-03\n",
      "  4.6228720e-03 -4.9213446e-03  8.3154684e-04 -3.9905510e-04\n",
      " -2.2298009e-03  2.8757665e-03 -4.5259274e-03  3.3166541e-03\n",
      "  3.6606139e-03  2.1919736e-03 -1.2232049e-03  4.9501196e-03\n",
      " -1.7800810e-03 -3.8366134e-03  3.0742158e-04 -1.9989542e-03\n",
      " -8.4733638e-06 -3.4271174e-03  4.0900428e-03  3.3913150e-03\n",
      " -3.5654402e-03  1.3027174e-05  2.7160600e-03  3.0531501e-03\n",
      "  1.1816722e-03 -4.8727100e-03  7.6080021e-04 -2.0592015e-03\n",
      "  5.0638313e-04  2.0337226e-03  1.7793197e-03  3.5215225e-03\n",
      "  3.5502517e-03 -2.1074606e-04 -3.2514462e-03  4.2644953e-03\n",
      "  1.3700830e-03 -2.8002490e-03 -2.3937332e-03  1.2362787e-03\n",
      "  3.3373465e-03 -4.6173506e-03 -1.3053509e-03  2.3631621e-03\n",
      "  4.8176679e-03 -2.4316553e-03  2.4996412e-03  1.0450624e-04\n",
      " -2.7219357e-03  4.8765671e-03  4.4584018e-03  1.7131910e-03\n",
      " -8.8819268e-04  2.2184525e-03  2.3525611e-03  5.7311339e-04\n",
      " -7.3029648e-04 -2.6843292e-04  1.3439363e-03  1.8304336e-03\n",
      " -2.2403500e-03 -3.0230044e-03 -1.6911717e-03 -3.8060814e-03\n",
      " -3.0542719e-03  1.8773509e-04 -3.6116228e-03 -4.1924082e-03\n",
      " -3.9775921e-03 -1.6518731e-03 -4.0632412e-03 -3.1368593e-03\n",
      " -3.8893705e-03 -2.5365341e-03  9.0755359e-04  4.4758599e-03]\n"
     ]
    }
   ],
   "source": [
    "print(vector)"
   ]
  },
  {
   "cell_type": "code",
   "execution_count": 31,
   "metadata": {
    "ExecuteTime": {
     "end_time": "2021-02-08T16:41:38.195975Z",
     "start_time": "2021-02-08T16:41:38.187803Z"
    }
   },
   "outputs": [],
   "source": [
    "#most similar words\n",
    "similar=model.wv.most_similar('development')"
   ]
  },
  {
   "cell_type": "code",
   "execution_count": 32,
   "metadata": {
    "ExecuteTime": {
     "end_time": "2021-02-08T16:41:46.998945Z",
     "start_time": "2021-02-08T16:41:46.988787Z"
    }
   },
   "outputs": [
    {
     "name": "stdout",
     "output_type": "stream",
     "text": [
      "[('completing', 0.15121373534202576), ('time', 0.1301400065422058), ('famous', 0.12873154878616333), ('college', 0.11082859337329865), ('joined', 0.10811460018157959), ('jewelry', 0.09318274259567261), ('awards', 0.09118583053350449), ('nuclear', 0.0808728039264679), ('way', 0.04785589128732681), ('serve', 0.046586908400058746)]\n"
     ]
    }
   ],
   "source": [
    "print(similar)"
   ]
  },
  {
   "cell_type": "code",
   "execution_count": null,
   "metadata": {},
   "outputs": [],
   "source": [
    "one', 'various', 'scientists', 'india', 'worked', 'development', 'nuclear', 'power'"
   ]
  }
 ],
 "metadata": {
  "hide_input": false,
  "kernelspec": {
   "display_name": "Python 3",
   "language": "python",
   "name": "python3"
  },
  "language_info": {
   "codemirror_mode": {
    "name": "ipython",
    "version": 3
   },
   "file_extension": ".py",
   "mimetype": "text/x-python",
   "name": "python",
   "nbconvert_exporter": "python",
   "pygments_lexer": "ipython3",
   "version": "3.7.6"
  },
  "toc": {
   "base_numbering": 1,
   "nav_menu": {},
   "number_sections": true,
   "sideBar": true,
   "skip_h1_title": false,
   "title_cell": "Table of Contents",
   "title_sidebar": "Contents",
   "toc_cell": false,
   "toc_position": {},
   "toc_section_display": true,
   "toc_window_display": false
  },
  "varInspector": {
   "cols": {
    "lenName": 16,
    "lenType": 16,
    "lenVar": 40
   },
   "kernels_config": {
    "python": {
     "delete_cmd_postfix": "",
     "delete_cmd_prefix": "del ",
     "library": "var_list.py",
     "varRefreshCmd": "print(var_dic_list())"
    },
    "r": {
     "delete_cmd_postfix": ") ",
     "delete_cmd_prefix": "rm(",
     "library": "var_list.r",
     "varRefreshCmd": "cat(var_dic_list()) "
    }
   },
   "types_to_exclude": [
    "module",
    "function",
    "builtin_function_or_method",
    "instance",
    "_Feature"
   ],
   "window_display": false
  }
 },
 "nbformat": 4,
 "nbformat_minor": 4
}
