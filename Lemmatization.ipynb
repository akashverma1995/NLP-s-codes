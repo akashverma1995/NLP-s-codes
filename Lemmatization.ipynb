{
 "cells": [
  {
   "cell_type": "code",
   "execution_count": 2,
   "metadata": {
    "ExecuteTime": {
     "end_time": "2021-02-07T08:24:30.443406Z",
     "start_time": "2021-02-07T08:24:30.435892Z"
    }
   },
   "outputs": [],
   "source": [
    "import nltk\n",
    "from nltk.stem import WordNetLemmatizer\n",
    "from nltk.corpus import stopwords"
   ]
  },
  {
   "cell_type": "code",
   "execution_count": 3,
   "metadata": {
    "ExecuteTime": {
     "end_time": "2021-02-07T08:24:58.684430Z",
     "start_time": "2021-02-07T08:24:58.675557Z"
    }
   },
   "outputs": [],
   "source": [
    "paragraph=\"\"\" He saw a lot of hardships on his way to success.\n",
    "            There was a time when his sister sold her jewelry to pay his college fees.\n",
    "            After completing his graduation, he joined the defense department to serve the nation.\n",
    "            And from there the journey of the famous scientist started to a never-ending tale of success.\n",
    "            He was one of the various scientists in India who worked for the development of nuclear power. \n",
    "            For his work, he also earned various awards and prizes. \"\"\""
   ]
  },
  {
   "cell_type": "code",
   "execution_count": 12,
   "metadata": {
    "ExecuteTime": {
     "end_time": "2021-02-07T08:32:29.284970Z",
     "start_time": "2021-02-07T08:32:29.274053Z"
    }
   },
   "outputs": [
    {
     "name": "stdout",
     "output_type": "stream",
     "text": [
      "[' He saw a lot of hardships on his way to success.', 'There was a time when his sister sold her jewelry to pay his college fees.', 'After completing his graduation, he joined the defense department to serve the nation.', 'And from there the journey of the famous scientist started to a never-ending tale of success.', 'He was one of the various scientists in India who worked for the development of nuclear power.', 'For his work, he also earned various awards and prizes.']\n"
     ]
    }
   ],
   "source": [
    "sentence = nltk.sent_tokenize(paragraph)\n",
    "print(sentence)"
   ]
  },
  {
   "cell_type": "code",
   "execution_count": null,
   "metadata": {},
   "outputs": [],
   "source": []
  },
  {
   "cell_type": "code",
   "execution_count": 13,
   "metadata": {
    "ExecuteTime": {
     "end_time": "2021-02-07T08:32:34.344866Z",
     "start_time": "2021-02-07T08:32:34.337760Z"
    }
   },
   "outputs": [],
   "source": [
    "lemmatizer = WordNetLemmatizer()"
   ]
  },
  {
   "cell_type": "code",
   "execution_count": 14,
   "metadata": {
    "ExecuteTime": {
     "end_time": "2021-02-07T08:32:35.264313Z",
     "start_time": "2021-02-07T08:32:35.244197Z"
    }
   },
   "outputs": [],
   "source": [
    "### lemmatization\n",
    "\n",
    "for i in range(len(sentence)):\n",
    "    words=nltk.word_tokenize(sentence[i])\n",
    "    words=[lemmatizer.lemmatize(word) for word in words if word not in set(stopwords.words('english'))]\n",
    "    sentence[i]=' '.join(words)"
   ]
  },
  {
   "cell_type": "code",
   "execution_count": 15,
   "metadata": {
    "ExecuteTime": {
     "end_time": "2021-02-07T08:32:41.655654Z",
     "start_time": "2021-02-07T08:32:41.652174Z"
    }
   },
   "outputs": [
    {
     "name": "stdout",
     "output_type": "stream",
     "text": [
      "['He saw lot hardship way success .', 'There time sister sold jewelry pay college fee .', 'After completing graduation , joined defense department serve nation .', 'And journey famous scientist started never-ending tale success .', 'He one various scientist India worked development nuclear power .', 'For work , also earned various award prize .']\n"
     ]
    }
   ],
   "source": [
    "print(sentence)"
   ]
  },
  {
   "cell_type": "code",
   "execution_count": null,
   "metadata": {},
   "outputs": [],
   "source": [
    "\n"
   ]
  }
 ],
 "metadata": {
  "hide_input": false,
  "kernelspec": {
   "display_name": "Python 3",
   "language": "python",
   "name": "python3"
  },
  "language_info": {
   "codemirror_mode": {
    "name": "ipython",
    "version": 3
   },
   "file_extension": ".py",
   "mimetype": "text/x-python",
   "name": "python",
   "nbconvert_exporter": "python",
   "pygments_lexer": "ipython3",
   "version": "3.7.6"
  },
  "toc": {
   "base_numbering": 1,
   "nav_menu": {},
   "number_sections": true,
   "sideBar": true,
   "skip_h1_title": false,
   "title_cell": "Table of Contents",
   "title_sidebar": "Contents",
   "toc_cell": false,
   "toc_position": {},
   "toc_section_display": true,
   "toc_window_display": false
  },
  "varInspector": {
   "cols": {
    "lenName": 16,
    "lenType": 16,
    "lenVar": 40
   },
   "kernels_config": {
    "python": {
     "delete_cmd_postfix": "",
     "delete_cmd_prefix": "del ",
     "library": "var_list.py",
     "varRefreshCmd": "print(var_dic_list())"
    },
    "r": {
     "delete_cmd_postfix": ") ",
     "delete_cmd_prefix": "rm(",
     "library": "var_list.r",
     "varRefreshCmd": "cat(var_dic_list()) "
    }
   },
   "types_to_exclude": [
    "module",
    "function",
    "builtin_function_or_method",
    "instance",
    "_Feature"
   ],
   "window_display": false
  }
 },
 "nbformat": 4,
 "nbformat_minor": 4
}
