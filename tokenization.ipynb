{
 "cells": [
  {
   "cell_type": "code",
   "execution_count": 2,
   "metadata": {
    "ExecuteTime": {
     "end_time": "2021-02-07T06:41:03.433849Z",
     "start_time": "2021-02-07T06:40:48.130787Z"
    }
   },
   "outputs": [],
   "source": [
    "import nltk"
   ]
  },
  {
   "cell_type": "code",
   "execution_count": 9,
   "metadata": {
    "ExecuteTime": {
     "end_time": "2021-02-07T06:52:14.695538Z",
     "start_time": "2021-02-07T06:51:57.787666Z"
    }
   },
   "outputs": [
    {
     "name": "stdout",
     "output_type": "stream",
     "text": [
      "showing info https://raw.githubusercontent.com/nltk/nltk_data/gh-pages/index.xml\n"
     ]
    },
    {
     "data": {
      "text/plain": [
       "True"
      ]
     },
     "execution_count": 9,
     "metadata": {},
     "output_type": "execute_result"
    }
   ],
   "source": [
    "nltk.download()"
   ]
  },
  {
   "cell_type": "code",
   "execution_count": 10,
   "metadata": {
    "ExecuteTime": {
     "end_time": "2021-02-07T06:52:19.742959Z",
     "start_time": "2021-02-07T06:52:19.739087Z"
    }
   },
   "outputs": [],
   "source": [
    "paragraph=\"\"\" He saw a lot of hardships on his way to success.\n",
    "            There was a time when his sister sold her jewelry to pay his college fees.\n",
    "            After completing his graduation, he joined the defense department to serve the nation.\n",
    "            And from there the journey of the famous scientist started to a never-ending tale of success.\n",
    "            He was one of the various scientists in India who worked for the development of nuclear power. \n",
    "            For his work, he also earned various awards and prizes. \"\"\""
   ]
  },
  {
   "cell_type": "code",
   "execution_count": 11,
   "metadata": {
    "ExecuteTime": {
     "end_time": "2021-02-07T06:52:21.797330Z",
     "start_time": "2021-02-07T06:52:21.789117Z"
    },
    "hide_input": false
   },
   "outputs": [],
   "source": [
    "# tokenizing the sentence\n",
    "sentence=nltk.sent_tokenize(paragraph)"
   ]
  },
  {
   "cell_type": "code",
   "execution_count": 15,
   "metadata": {
    "ExecuteTime": {
     "end_time": "2021-02-07T06:53:58.159410Z",
     "start_time": "2021-02-07T06:53:58.155783Z"
    }
   },
   "outputs": [
    {
     "name": "stdout",
     "output_type": "stream",
     "text": [
      "[' He saw a lot of hardships on his way to success.', 'There was a time when his sister sold her jewelry to pay his college fees.', 'After completing his graduation, he joined the defense department to serve the nation.', 'And from there the journey of the famous scientist started to a never-ending tale of success.', 'He was one of the various scientists in India who worked for the development of nuclear power.', 'For his work, he also earned various awards and prizes.']\n"
     ]
    }
   ],
   "source": [
    "print(sentence)"
   ]
  },
  {
   "cell_type": "code",
   "execution_count": 16,
   "metadata": {
    "ExecuteTime": {
     "end_time": "2021-02-07T06:54:11.338271Z",
     "start_time": "2021-02-07T06:54:11.330142Z"
    }
   },
   "outputs": [
    {
     "name": "stdout",
     "output_type": "stream",
     "text": [
      "6\n"
     ]
    }
   ],
   "source": [
    "print(len(sentence))"
   ]
  },
  {
   "cell_type": "code",
   "execution_count": 12,
   "metadata": {
    "ExecuteTime": {
     "end_time": "2021-02-07T06:52:24.098018Z",
     "start_time": "2021-02-07T06:52:24.093903Z"
    }
   },
   "outputs": [],
   "source": [
    "# tokenizing the words\n",
    "word=nltk.word_tokenize(paragraph)\n"
   ]
  },
  {
   "cell_type": "code",
   "execution_count": 13,
   "metadata": {
    "ExecuteTime": {
     "end_time": "2021-02-07T06:52:52.784852Z",
     "start_time": "2021-02-07T06:52:52.775441Z"
    }
   },
   "outputs": [
    {
     "name": "stdout",
     "output_type": "stream",
     "text": [
      "['He', 'saw', 'a', 'lot', 'of', 'hardships', 'on', 'his', 'way', 'to', 'success', '.', 'There', 'was', 'a', 'time', 'when', 'his', 'sister', 'sold', 'her', 'jewelry', 'to', 'pay', 'his', 'college', 'fees', '.', 'After', 'completing', 'his', 'graduation', ',', 'he', 'joined', 'the', 'defense', 'department', 'to', 'serve', 'the', 'nation', '.', 'And', 'from', 'there', 'the', 'journey', 'of', 'the', 'famous', 'scientist', 'started', 'to', 'a', 'never-ending', 'tale', 'of', 'success', '.', 'He', 'was', 'one', 'of', 'the', 'various', 'scientists', 'in', 'India', 'who', 'worked', 'for', 'the', 'development', 'of', 'nuclear', 'power', '.', 'For', 'his', 'work', ',', 'he', 'also', 'earned', 'various', 'awards', 'and', 'prizes', '.']\n"
     ]
    }
   ],
   "source": [
    "print(word)"
   ]
  },
  {
   "cell_type": "code",
   "execution_count": 14,
   "metadata": {
    "ExecuteTime": {
     "end_time": "2021-02-07T06:53:15.822160Z",
     "start_time": "2021-02-07T06:53:15.818615Z"
    }
   },
   "outputs": [
    {
     "name": "stdout",
     "output_type": "stream",
     "text": [
      "90\n"
     ]
    }
   ],
   "source": [
    "print(len(word))"
   ]
  },
  {
   "cell_type": "code",
   "execution_count": null,
   "metadata": {},
   "outputs": [],
   "source": []
  }
 ],
 "metadata": {
  "hide_input": false,
  "kernelspec": {
   "display_name": "Python 3",
   "language": "python",
   "name": "python3"
  },
  "language_info": {
   "codemirror_mode": {
    "name": "ipython",
    "version": 3
   },
   "file_extension": ".py",
   "mimetype": "text/x-python",
   "name": "python",
   "nbconvert_exporter": "python",
   "pygments_lexer": "ipython3",
   "version": "3.7.6"
  },
  "toc": {
   "base_numbering": 1,
   "nav_menu": {},
   "number_sections": true,
   "sideBar": true,
   "skip_h1_title": false,
   "title_cell": "Table of Contents",
   "title_sidebar": "Contents",
   "toc_cell": false,
   "toc_position": {},
   "toc_section_display": true,
   "toc_window_display": false
  },
  "varInspector": {
   "cols": {
    "lenName": 16,
    "lenType": 16,
    "lenVar": 40
   },
   "kernels_config": {
    "python": {
     "delete_cmd_postfix": "",
     "delete_cmd_prefix": "del ",
     "library": "var_list.py",
     "varRefreshCmd": "print(var_dic_list())"
    },
    "r": {
     "delete_cmd_postfix": ") ",
     "delete_cmd_prefix": "rm(",
     "library": "var_list.r",
     "varRefreshCmd": "cat(var_dic_list()) "
    }
   },
   "position": {
    "height": "228px",
    "left": "602px",
    "right": "20px",
    "top": "108px",
    "width": "589px"
   },
   "types_to_exclude": [
    "module",
    "function",
    "builtin_function_or_method",
    "instance",
    "_Feature"
   ],
   "window_display": false
  }
 },
 "nbformat": 4,
 "nbformat_minor": 4
}
