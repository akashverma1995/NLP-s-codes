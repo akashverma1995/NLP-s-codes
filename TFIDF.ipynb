{
 "cells": [
  {
   "cell_type": "code",
   "execution_count": 1,
   "metadata": {
    "ExecuteTime": {
     "end_time": "2021-02-07T16:02:33.459413Z",
     "start_time": "2021-02-07T16:02:31.784180Z"
    }
   },
   "outputs": [],
   "source": [
    "import nltk"
   ]
  },
  {
   "cell_type": "code",
   "execution_count": 2,
   "metadata": {
    "ExecuteTime": {
     "end_time": "2021-02-07T16:02:33.522494Z",
     "start_time": "2021-02-07T16:02:33.520063Z"
    }
   },
   "outputs": [],
   "source": [
    "paragraph = \"\"\"I am proud to belong to a religion which has taught the world both\n",
    "            tolerance and universal acceptance. We believe not only in universal toleration, \n",
    "            but we accept all religions as true. \n",
    "            I am proud to belong to a nation which has sheltered the persecuted and the\n",
    "            refugees of all religions and all nations of the earth.\"\"\""
   ]
  },
  {
   "cell_type": "code",
   "execution_count": 3,
   "metadata": {
    "ExecuteTime": {
     "end_time": "2021-02-07T16:02:34.191403Z",
     "start_time": "2021-02-07T16:02:34.183345Z"
    }
   },
   "outputs": [],
   "source": [
    "import re\n",
    "from nltk.corpus import stopwords\n",
    "from nltk.stem.porter import PorterStemmer\n",
    "from nltk.stem import WordNetLemmatizer"
   ]
  },
  {
   "cell_type": "code",
   "execution_count": 4,
   "metadata": {
    "ExecuteTime": {
     "end_time": "2021-02-07T16:02:34.965958Z",
     "start_time": "2021-02-07T16:02:34.927127Z"
    }
   },
   "outputs": [],
   "source": [
    "#cleaning the text\n",
    "sentences=nltk.sent_tokenize(paragraph)\n",
    "le=WordNetLemmatizer()"
   ]
  },
  {
   "cell_type": "code",
   "execution_count": 5,
   "metadata": {
    "ExecuteTime": {
     "end_time": "2021-02-07T16:03:14.237758Z",
     "start_time": "2021-02-07T16:03:13.081470Z"
    }
   },
   "outputs": [],
   "source": [
    "corpus=[]\n",
    "for i in range(len(sentences)):\n",
    "    review=re.sub('[^a-zA-Z]',' ',sentences[i])\n",
    "    review=review.lower()\n",
    "    review=review.split()\n",
    "    review= [le.lemmatize(word) for word in review if word not in set(stopwords.words('english'))] \n",
    "    review=' '.join(review)\n",
    "    corpus.append(review)"
   ]
  },
  {
   "cell_type": "code",
   "execution_count": 6,
   "metadata": {
    "ExecuteTime": {
     "end_time": "2021-02-07T16:03:15.082341Z",
     "start_time": "2021-02-07T16:03:15.076345Z"
    }
   },
   "outputs": [
    {
     "name": "stdout",
     "output_type": "stream",
     "text": [
      "['proud belong religion taught world tolerance universal acceptance', 'believe universal toleration accept religion true', 'proud belong nation sheltered persecuted refugee religion nation earth']\n"
     ]
    }
   ],
   "source": [
    "print(corpus)"
   ]
  },
  {
   "cell_type": "code",
   "execution_count": 10,
   "metadata": {
    "ExecuteTime": {
     "end_time": "2021-02-07T16:04:24.126656Z",
     "start_time": "2021-02-07T16:04:24.120888Z"
    }
   },
   "outputs": [],
   "source": [
    "## creating TFIDF model\n",
    "from sklearn.feature_extraction.text import TfidfVectorizer\n",
    "tf=TfidfVectorizer()\n",
    "X=tf.fit_transform(corpus)"
   ]
  },
  {
   "cell_type": "code",
   "execution_count": 11,
   "metadata": {
    "ExecuteTime": {
     "end_time": "2021-02-07T16:04:26.950024Z",
     "start_time": "2021-02-07T16:04:26.945457Z"
    }
   },
   "outputs": [
    {
     "name": "stdout",
     "output_type": "stream",
     "text": [
      "  (0, 1)\t0.4054193547662396\n",
      "  (0, 15)\t0.3083318691673373\n",
      "  (0, 12)\t0.4054193547662396\n",
      "  (0, 16)\t0.4054193547662396\n",
      "  (0, 11)\t0.4054193547662396\n",
      "  (0, 9)\t0.23944720188599447\n",
      "  (0, 3)\t0.3083318691673373\n",
      "  (0, 7)\t0.3083318691673373\n",
      "  (1, 14)\t0.450504072643198\n",
      "  (1, 0)\t0.450504072643198\n",
      "  (1, 13)\t0.450504072643198\n",
      "  (1, 2)\t0.450504072643198\n",
      "  (1, 15)\t0.3426199591918006\n",
      "  (1, 9)\t0.2660749625405929\n",
      "  (2, 4)\t0.3243468105820905\n",
      "  (2, 8)\t0.3243468105820905\n",
      "  (2, 6)\t0.3243468105820905\n",
      "  (2, 10)\t0.3243468105820905\n",
      "  (2, 5)\t0.648693621164181\n",
      "  (2, 9)\t0.19156445128108995\n",
      "  (2, 3)\t0.2466741096337221\n",
      "  (2, 7)\t0.2466741096337221\n"
     ]
    }
   ],
   "source": [
    "print(X)"
   ]
  },
  {
   "cell_type": "code",
   "execution_count": 12,
   "metadata": {
    "ExecuteTime": {
     "end_time": "2021-02-07T16:04:48.603134Z",
     "start_time": "2021-02-07T16:04:48.600285Z"
    }
   },
   "outputs": [],
   "source": [
    "X=X.toarray()"
   ]
  },
  {
   "cell_type": "code",
   "execution_count": 13,
   "metadata": {
    "ExecuteTime": {
     "end_time": "2021-02-07T16:04:58.627012Z",
     "start_time": "2021-02-07T16:04:58.620682Z"
    }
   },
   "outputs": [
    {
     "name": "stdout",
     "output_type": "stream",
     "text": [
      "[[0.         0.40541935 0.         0.30833187 0.         0.\n",
      "  0.         0.30833187 0.         0.2394472  0.         0.40541935\n",
      "  0.40541935 0.         0.         0.30833187 0.40541935]\n",
      " [0.45050407 0.         0.45050407 0.         0.         0.\n",
      "  0.         0.         0.         0.26607496 0.         0.\n",
      "  0.         0.45050407 0.45050407 0.34261996 0.        ]\n",
      " [0.         0.         0.         0.24667411 0.32434681 0.64869362\n",
      "  0.32434681 0.24667411 0.32434681 0.19156445 0.32434681 0.\n",
      "  0.         0.         0.         0.         0.        ]]\n"
     ]
    }
   ],
   "source": [
    "print(X)"
   ]
  },
  {
   "cell_type": "code",
   "execution_count": null,
   "metadata": {
    "ExecuteTime": {
     "end_time": "2021-02-07T15:47:44.745014Z",
     "start_time": "2021-02-07T15:47:43.922377Z"
    }
   },
   "outputs": [],
   "source": [
    " from sklearn.feature_extraction.text import TfidfVectorizer\n",
    "corpus = [\n",
    "     'This is the first document.',\n",
    "     'This document is the second document.',\n",
    "     'And this is the third one.',\n",
    "    'Is this the first document?',\n",
    "]\n",
    "vectorizer = TfidfVectorizer()\n",
    "X = vectorizer.fit_transform(corpus)\n",
    "print(vectorizer.get_feature_names())"
   ]
  },
  {
   "cell_type": "code",
   "execution_count": null,
   "metadata": {
    "ExecuteTime": {
     "end_time": "2021-02-07T15:48:32.763776Z",
     "start_time": "2021-02-07T15:48:32.752053Z"
    }
   },
   "outputs": [],
   "source": [
    "X=X.toarray()\n",
    "print(X)"
   ]
  },
  {
   "cell_type": "code",
   "execution_count": null,
   "metadata": {},
   "outputs": [],
   "source": []
  }
 ],
 "metadata": {
  "hide_input": false,
  "kernelspec": {
   "display_name": "Python 3",
   "language": "python",
   "name": "python3"
  },
  "language_info": {
   "codemirror_mode": {
    "name": "ipython",
    "version": 3
   },
   "file_extension": ".py",
   "mimetype": "text/x-python",
   "name": "python",
   "nbconvert_exporter": "python",
   "pygments_lexer": "ipython3",
   "version": "3.7.6"
  },
  "toc": {
   "base_numbering": 1,
   "nav_menu": {},
   "number_sections": true,
   "sideBar": true,
   "skip_h1_title": false,
   "title_cell": "Table of Contents",
   "title_sidebar": "Contents",
   "toc_cell": false,
   "toc_position": {},
   "toc_section_display": true,
   "toc_window_display": false
  },
  "varInspector": {
   "cols": {
    "lenName": 16,
    "lenType": 16,
    "lenVar": 40
   },
   "kernels_config": {
    "python": {
     "delete_cmd_postfix": "",
     "delete_cmd_prefix": "del ",
     "library": "var_list.py",
     "varRefreshCmd": "print(var_dic_list())"
    },
    "r": {
     "delete_cmd_postfix": ") ",
     "delete_cmd_prefix": "rm(",
     "library": "var_list.r",
     "varRefreshCmd": "cat(var_dic_list()) "
    }
   },
   "position": {
    "height": "350px",
    "left": "569px",
    "right": "20px",
    "top": "148px",
    "width": "529px"
   },
   "types_to_exclude": [
    "module",
    "function",
    "builtin_function_or_method",
    "instance",
    "_Feature"
   ],
   "window_display": false
  }
 },
 "nbformat": 4,
 "nbformat_minor": 4
}
